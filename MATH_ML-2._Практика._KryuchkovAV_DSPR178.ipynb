{
  "cells": [
    {
      "cell_type": "markdown",
      "id": "b054bd88",
      "metadata": {
        "id": "b054bd88"
      },
      "source": [
        "# <center> Линейная алгебра в контексте линейных методов. Практика.\n",
        "\n",
        "## <center> Прогнозирование выработки газа на скважинах."
      ]
    },
    {
      "cell_type": "markdown",
      "id": "325bc80b",
      "metadata": {
        "id": "325bc80b"
      },
      "source": [
        "## Постановка задачи"
      ]
    },
    {
      "cell_type": "markdown",
      "id": "8247bd54",
      "metadata": {
        "id": "8247bd54"
      },
      "source": [
        "У Василия, основателя компании «Газ-Таз-Ваз-Нефть», дела идут в гору: у него уже функционирует 200 скважин для добычи газа. В этом году он открывает 30 новых скважин. Однако в целях оптимизации расходов и повышения дохода Василию необходимо оценить, сколько денег будет приносить ему каждая из скважин, а также понять, какие факторы (параметры скважин) потенциально сильнее всего повлияют на объём добычи газа. Для этого Василий решил нанять вас как специалиста в области Data Science.\n",
        "\n",
        "Василий представляет вам набор данных о добыче газа на своих скважинах. Файл с данными вы можете скачать на платформе.\n",
        "\n",
        "**Признаки в данных:**\n",
        "\n",
        "* Well — идентификатор скважины;\n",
        "* Por — пористость скважины (%);\n",
        "* Perm — проницаемость скважины;\n",
        "* AI — акустический импеданс ($кг/м^2 * 10^6$);\n",
        "* Brittle — коэффициент хрупкости скважины (%);\n",
        "* TOC — общий органический углерод (%);\n",
        "* VR — коэффициент отражения витринита (%);\n",
        "* Prod — добыча газа в сутки (млн. кубических футов).\n",
        "\n",
        "**Ваша задача** — построить регрессионную модель, которая прогнозирует выработку газа на скважине (целевой признак — Prod) на основе остальных характеристик скважины, и проинтерпретировать результаты вашей модели.\n",
        "\n",
        "Разделим задачу на две части:\n",
        "* В первой мы построим простейшую модель линейной регрессии, проанализируем результаты её работы и выберем наиболее значимые факторы для прогнозирования.\n",
        "* Во второй мы займёмся построением модели полиномиальной регрессии с регуляризацией и посмотрим на итоговые результаты моделирования.\n"
      ]
    },
    {
      "cell_type": "markdown",
      "id": "d67d069e",
      "metadata": {
        "id": "d67d069e"
      },
      "source": [
        "Импортируем необходимые библиотеки:"
      ]
    },
    {
      "cell_type": "code",
      "execution_count": 1,
      "id": "83a555bc-8dff-4b7e-bba1-cd4f4a9e69b2",
      "metadata": {
        "id": "83a555bc-8dff-4b7e-bba1-cd4f4a9e69b2"
      },
      "outputs": [],
      "source": [
        "# Импорт библиотек\n",
        "import numpy as np # для работы с массивами\n",
        "import pandas as pd # для работы с DataFrame \n",
        "import seaborn as sns # библиотека для визуализации статистических данных\n",
        "import matplotlib.pyplot as plt # для построения графиков\n",
        "from sklearn.linear_model import LinearRegression\n",
        "from sklearn import metrics\n",
        "\n",
        "%matplotlib inline"
      ]
    },
    {
      "cell_type": "markdown",
      "id": "e689ddaf",
      "metadata": {
        "id": "e689ddaf"
      },
      "source": [
        "Прочитаем исходные данные:"
      ]
    },
    {
      "cell_type": "code",
      "execution_count": 2,
      "id": "b7b5cd9b-703f-4dbc-a6e3-61d583eafcac",
      "metadata": {
        "colab": {
          "base_uri": "https://localhost:8080/",
          "height": 206
        },
        "id": "b7b5cd9b-703f-4dbc-a6e3-61d583eafcac",
        "outputId": "d4e99a48-2a0d-4edd-f86c-617c44bf36d2"
      },
      "outputs": [
        {
          "data": {
            "text/html": [
              "<div>\n",
              "<style scoped>\n",
              "    .dataframe tbody tr th:only-of-type {\n",
              "        vertical-align: middle;\n",
              "    }\n",
              "\n",
              "    .dataframe tbody tr th {\n",
              "        vertical-align: top;\n",
              "    }\n",
              "\n",
              "    .dataframe thead th {\n",
              "        text-align: right;\n",
              "    }\n",
              "</style>\n",
              "<table border=\"1\" class=\"dataframe\">\n",
              "  <thead>\n",
              "    <tr style=\"text-align: right;\">\n",
              "      <th></th>\n",
              "      <th>Well</th>\n",
              "      <th>Por</th>\n",
              "      <th>Perm</th>\n",
              "      <th>AI</th>\n",
              "      <th>Brittle</th>\n",
              "      <th>TOC</th>\n",
              "      <th>VR</th>\n",
              "      <th>Prod</th>\n",
              "    </tr>\n",
              "  </thead>\n",
              "  <tbody>\n",
              "    <tr>\n",
              "      <th>0</th>\n",
              "      <td>1</td>\n",
              "      <td>12.08</td>\n",
              "      <td>2.92</td>\n",
              "      <td>2.80</td>\n",
              "      <td>81.40</td>\n",
              "      <td>1.16</td>\n",
              "      <td>2.31</td>\n",
              "      <td>4165.196191</td>\n",
              "    </tr>\n",
              "    <tr>\n",
              "      <th>1</th>\n",
              "      <td>2</td>\n",
              "      <td>12.38</td>\n",
              "      <td>3.53</td>\n",
              "      <td>3.22</td>\n",
              "      <td>46.17</td>\n",
              "      <td>0.89</td>\n",
              "      <td>1.88</td>\n",
              "      <td>3561.146205</td>\n",
              "    </tr>\n",
              "    <tr>\n",
              "      <th>2</th>\n",
              "      <td>3</td>\n",
              "      <td>14.02</td>\n",
              "      <td>2.59</td>\n",
              "      <td>4.01</td>\n",
              "      <td>72.80</td>\n",
              "      <td>0.89</td>\n",
              "      <td>2.72</td>\n",
              "      <td>4284.348574</td>\n",
              "    </tr>\n",
              "    <tr>\n",
              "      <th>3</th>\n",
              "      <td>4</td>\n",
              "      <td>17.67</td>\n",
              "      <td>6.75</td>\n",
              "      <td>2.63</td>\n",
              "      <td>39.81</td>\n",
              "      <td>1.08</td>\n",
              "      <td>1.88</td>\n",
              "      <td>5098.680869</td>\n",
              "    </tr>\n",
              "    <tr>\n",
              "      <th>4</th>\n",
              "      <td>5</td>\n",
              "      <td>17.52</td>\n",
              "      <td>4.57</td>\n",
              "      <td>3.18</td>\n",
              "      <td>10.94</td>\n",
              "      <td>1.51</td>\n",
              "      <td>1.90</td>\n",
              "      <td>3406.132832</td>\n",
              "    </tr>\n",
              "  </tbody>\n",
              "</table>\n",
              "</div>"
            ],
            "text/plain": [
              "   Well    Por  Perm    AI  Brittle   TOC    VR         Prod\n",
              "0     1  12.08  2.92  2.80    81.40  1.16  2.31  4165.196191\n",
              "1     2  12.38  3.53  3.22    46.17  0.89  1.88  3561.146205\n",
              "2     3  14.02  2.59  4.01    72.80  0.89  2.72  4284.348574\n",
              "3     4  17.67  6.75  2.63    39.81  1.08  1.88  5098.680869\n",
              "4     5  17.52  4.57  3.18    10.94  1.51  1.90  3406.132832"
            ]
          },
          "execution_count": 2,
          "metadata": {},
          "output_type": "execute_result"
        }
      ],
      "source": [
        "data = pd.read_csv('data/unconv.csv')\n",
        "data.head()"
      ]
    },
    {
      "cell_type": "markdown",
      "id": "58639b40",
      "metadata": {
        "id": "58639b40"
      },
      "source": [
        "## Практика: линейная регрессия по методу наименьших квадратов"
      ]
    },
    {
      "cell_type": "markdown",
      "id": "a90535b8",
      "metadata": {
        "id": "a90535b8"
      },
      "source": [
        "Для начала построим простейшую модель линейной регрессии, проанализируем результаты её работы и выберем наиболее значимые факторы для прогнозирования.\n",
        "\n",
        "В первой части вам предстоит выполнить задания 5.0–5.6. Максимальное количество баллов, которое можно получить, — 9."
      ]
    },
    {
      "cell_type": "markdown",
      "id": "4061b706",
      "metadata": {
        "id": "4061b706"
      },
      "source": [
        "### Задание 5.0. (не оценивается)\n",
        "\n",
        "Проведите небольшой разведывательный анализ, чтобы поближе познакомиться с исходными данными. Постройте несколько визуализаций, которые помогут вам понять, как устроены исходные признаки, а также смогут продемонстрировать взаимосвязь факторов. \n",
        "\n",
        "Сделайте промежуточные выводы из проведённого разведывательного анализа."
      ]
    },
    {
      "cell_type": "code",
      "execution_count": 3,
      "id": "daf1ccc7",
      "metadata": {
        "id": "daf1ccc7"
      },
      "outputs": [
        {
          "name": "stdout",
          "output_type": "stream",
          "text": [
            "<class 'pandas.core.frame.DataFrame'>\n",
            "RangeIndex: 200 entries, 0 to 199\n",
            "Data columns (total 8 columns):\n",
            " #   Column   Non-Null Count  Dtype  \n",
            "---  ------   --------------  -----  \n",
            " 0   Well     200 non-null    int64  \n",
            " 1   Por      200 non-null    float64\n",
            " 2   Perm     200 non-null    float64\n",
            " 3   AI       200 non-null    float64\n",
            " 4   Brittle  200 non-null    float64\n",
            " 5   TOC      200 non-null    float64\n",
            " 6   VR       200 non-null    float64\n",
            " 7   Prod     200 non-null    float64\n",
            "dtypes: float64(7), int64(1)\n",
            "memory usage: 12.6 KB\n"
          ]
        }
      ],
      "source": [
        "# Ваш код здесь\n",
        "data.info()"
      ]
    },
    {
      "cell_type": "code",
      "execution_count": 4,
      "id": "7389a68a",
      "metadata": {},
      "outputs": [
        {
          "data": {
            "text/html": [
              "<div>\n",
              "<style scoped>\n",
              "    .dataframe tbody tr th:only-of-type {\n",
              "        vertical-align: middle;\n",
              "    }\n",
              "\n",
              "    .dataframe tbody tr th {\n",
              "        vertical-align: top;\n",
              "    }\n",
              "\n",
              "    .dataframe thead th {\n",
              "        text-align: right;\n",
              "    }\n",
              "</style>\n",
              "<table border=\"1\" class=\"dataframe\">\n",
              "  <thead>\n",
              "    <tr style=\"text-align: right;\">\n",
              "      <th></th>\n",
              "      <th>Well</th>\n",
              "      <th>Por</th>\n",
              "      <th>Perm</th>\n",
              "      <th>AI</th>\n",
              "      <th>Brittle</th>\n",
              "      <th>TOC</th>\n",
              "      <th>VR</th>\n",
              "      <th>Prod</th>\n",
              "    </tr>\n",
              "  </thead>\n",
              "  <tbody>\n",
              "    <tr>\n",
              "      <th>count</th>\n",
              "      <td>200.000000</td>\n",
              "      <td>200.000000</td>\n",
              "      <td>200.000000</td>\n",
              "      <td>200.000000</td>\n",
              "      <td>200.000000</td>\n",
              "      <td>200.000000</td>\n",
              "      <td>200.000000</td>\n",
              "      <td>200.000000</td>\n",
              "    </tr>\n",
              "    <tr>\n",
              "      <th>mean</th>\n",
              "      <td>100.500000</td>\n",
              "      <td>14.991150</td>\n",
              "      <td>4.330750</td>\n",
              "      <td>2.968850</td>\n",
              "      <td>48.161950</td>\n",
              "      <td>0.990450</td>\n",
              "      <td>1.964300</td>\n",
              "      <td>4311.219852</td>\n",
              "    </tr>\n",
              "    <tr>\n",
              "      <th>std</th>\n",
              "      <td>57.879185</td>\n",
              "      <td>2.971176</td>\n",
              "      <td>1.731014</td>\n",
              "      <td>0.566885</td>\n",
              "      <td>14.129455</td>\n",
              "      <td>0.481588</td>\n",
              "      <td>0.300827</td>\n",
              "      <td>992.038414</td>\n",
              "    </tr>\n",
              "    <tr>\n",
              "      <th>min</th>\n",
              "      <td>1.000000</td>\n",
              "      <td>6.550000</td>\n",
              "      <td>1.130000</td>\n",
              "      <td>1.280000</td>\n",
              "      <td>10.940000</td>\n",
              "      <td>-0.190000</td>\n",
              "      <td>0.930000</td>\n",
              "      <td>2107.139414</td>\n",
              "    </tr>\n",
              "    <tr>\n",
              "      <th>25%</th>\n",
              "      <td>50.750000</td>\n",
              "      <td>12.912500</td>\n",
              "      <td>3.122500</td>\n",
              "      <td>2.547500</td>\n",
              "      <td>37.755000</td>\n",
              "      <td>0.617500</td>\n",
              "      <td>1.770000</td>\n",
              "      <td>3618.064513</td>\n",
              "    </tr>\n",
              "    <tr>\n",
              "      <th>50%</th>\n",
              "      <td>100.500000</td>\n",
              "      <td>15.070000</td>\n",
              "      <td>4.035000</td>\n",
              "      <td>2.955000</td>\n",
              "      <td>49.510000</td>\n",
              "      <td>1.030000</td>\n",
              "      <td>1.960000</td>\n",
              "      <td>4284.687348</td>\n",
              "    </tr>\n",
              "    <tr>\n",
              "      <th>75%</th>\n",
              "      <td>150.250000</td>\n",
              "      <td>17.402500</td>\n",
              "      <td>5.287500</td>\n",
              "      <td>3.345000</td>\n",
              "      <td>58.262500</td>\n",
              "      <td>1.350000</td>\n",
              "      <td>2.142500</td>\n",
              "      <td>5086.089761</td>\n",
              "    </tr>\n",
              "    <tr>\n",
              "      <th>max</th>\n",
              "      <td>200.000000</td>\n",
              "      <td>23.550000</td>\n",
              "      <td>9.870000</td>\n",
              "      <td>4.630000</td>\n",
              "      <td>84.330000</td>\n",
              "      <td>2.180000</td>\n",
              "      <td>2.870000</td>\n",
              "      <td>6662.622385</td>\n",
              "    </tr>\n",
              "  </tbody>\n",
              "</table>\n",
              "</div>"
            ],
            "text/plain": [
              "             Well         Por        Perm          AI     Brittle         TOC  \\\n",
              "count  200.000000  200.000000  200.000000  200.000000  200.000000  200.000000   \n",
              "mean   100.500000   14.991150    4.330750    2.968850   48.161950    0.990450   \n",
              "std     57.879185    2.971176    1.731014    0.566885   14.129455    0.481588   \n",
              "min      1.000000    6.550000    1.130000    1.280000   10.940000   -0.190000   \n",
              "25%     50.750000   12.912500    3.122500    2.547500   37.755000    0.617500   \n",
              "50%    100.500000   15.070000    4.035000    2.955000   49.510000    1.030000   \n",
              "75%    150.250000   17.402500    5.287500    3.345000   58.262500    1.350000   \n",
              "max    200.000000   23.550000    9.870000    4.630000   84.330000    2.180000   \n",
              "\n",
              "               VR         Prod  \n",
              "count  200.000000   200.000000  \n",
              "mean     1.964300  4311.219852  \n",
              "std      0.300827   992.038414  \n",
              "min      0.930000  2107.139414  \n",
              "25%      1.770000  3618.064513  \n",
              "50%      1.960000  4284.687348  \n",
              "75%      2.142500  5086.089761  \n",
              "max      2.870000  6662.622385  "
            ]
          },
          "execution_count": 4,
          "metadata": {},
          "output_type": "execute_result"
        }
      ],
      "source": [
        "data.describe()"
      ]
    },
    {
      "cell_type": "code",
      "execution_count": 5,
      "id": "45cb054b",
      "metadata": {},
      "outputs": [
        {
          "data": {
            "image/png": "[encoded data removed]",
            "text/plain": [
              "<Figure size 1200x200 with 1 Axes>"
            ]
          },
          "metadata": {},
          "output_type": "display_data"
        },
        {
          "data": {
            "image/png": "[encoded data removed]",
            "text/plain": [
              "<Figure size 1200x200 with 1 Axes>"
            ]
          },
          "metadata": {},
          "output_type": "display_data"
        },
        {
          "data": {
            "image/png": "[encoded data removed]",
            "text/plain": [
              "<Figure size 1200x200 with 1 Axes>"
            ]
          },
          "metadata": {},
          "output_type": "display_data"
        },
        {
          "data": {
            "image/png": "[encoded data removed]",
            "text/plain": [
              "<Figure size 1200x200 with 1 Axes>"
            ]
          },
          "metadata": {},
          "output_type": "display_data"
        },
        {
          "data": {
            "image/png": "[encoded data removed]",
            "text/plain": [
              "<Figure size 1200x200 with 1 Axes>"
            ]
          },
          "metadata": {},
          "output_type": "display_data"
        },
        {
          "data": {
            "image/png": "[encoded data removed]",
            "text/plain": [
              "<Figure size 1200x200 with 1 Axes>"
            ]
          },
          "metadata": {},
          "output_type": "display_data"
        },
        {
          "data": {
            "image/png": "[encoded data removed]",
            "text/plain": [
              "<Figure size 1200x200 with 1 Axes>"
            ]
          },
          "metadata": {},
          "output_type": "display_data"
        }
      ],
      "source": [
        "plt.style.use('_mpl-gallery')\n",
        "\n",
        "for feature in data.columns.drop(['Prod']):\n",
        "    fig, ax = plt.subplots(figsize=(12, 2))\n",
        "    ax.scatter(x=data['Prod'], y=data[feature], color = 'blue')\n",
        "    ax.set(xlabel='Prod', ylabel=feature, title = f'диаграмма рассеяния взаимосвязи признаков Prod и {feature}')\n",
        "    plt.show()"
      ]
    },
    {
      "cell_type": "markdown",
      "id": "8fbf2411",
      "metadata": {},
      "source": [
        "> * Выводы\n",
        "\n",
        "> Пропущенных значений в датасете нет. Все данные представлены в числовом формате.\n",
        "\n",
        "> Признак \"Well\" имеет большой разброс по сравнию с другими  признаками: порядок максимальных значений трех значный 200, а минимальный 1.\n",
        "\n",
        "> Признак \"Prod\" имеет самые большой порядок величин среди все значений датасета - четырехзначный.\n",
        "\n",
        "> Данные требую стандартизации."
      ]
    },
    {
      "cell_type": "markdown",
      "id": "d11cb44f",
      "metadata": {
        "id": "d11cb44f"
      },
      "source": [
        "### Задание 5.1. (2 балла)\n",
        "\n",
        "Постройте корреляционную матрицу факторов, включив в неё целевой признак. \n",
        "\n",
        "Для наглядности визуализируйте полученную матрицу с помощью тепловой карты. \n",
        "\n",
        "**Примечание.** *Для визуализации вы можете использовать любую из знакомых вам библиотек.*\n",
        "\n",
        "На основе построенной корреляционной матрицы ответьте на следующий вопрос:\n",
        "\n",
        "* Какие факторы сильнее всего коррелируют с целевой переменной?\n",
        "\n",
        "Вычислите ранг и определитель полученной матрицы корреляций и приведите развёрнутые ответы на следующие вопросы:\n",
        "* Является ли корреляционная матрица плохо обусловенной (близок ли её опредитель к нулю)?\n",
        "* Что вы можете сказать о наличии коллинераности/мультиколлинеарности в данных? \n",
        "* Применима ли в данном случае модель классической линейной регрессии по методу наименьших квадратов и почему? "
      ]
    },
    {
      "cell_type": "markdown",
      "id": "57OjUl5e2oiL",
      "metadata": {
        "id": "57OjUl5e2oiL"
      },
      "source": [
        "**Критерии оценивания:**\n",
        "- Задание выполнено верно, учтены все условия (**2 балла**): \n",
        "    * приведён код для расчёта корреляционной матрицы;\n",
        "    * приведён код для визуализации корреляционной матрицы в виде тепловой карты;\n",
        "    * рассчитаны ранг и определитель корреляционной матрицы;\n",
        "    * предоставлены обоснованные ответы на все поставленные вопросы. \n",
        "\n",
        "- Задание выполнено верно, но не учтено одно условие (**1 балл**).\n",
        "- Задание выполнено неверно, не учтено несколько условий (**0 баллов**)."
      ]
    },
    {
      "cell_type": "code",
      "execution_count": 6,
      "id": "af00a5a0",
      "metadata": {
        "id": "af00a5a0"
      },
      "outputs": [
        {
          "data": {
            "text/plain": [
              "<Axes: >"
            ]
          },
          "execution_count": 6,
          "metadata": {},
          "output_type": "execute_result"
        },
        {
          "data": {
            "image/png": "[encoded data removed]",
            "text/plain": [
              "<Figure size 1200x600 with 2 Axes>"
            ]
          },
          "metadata": {},
          "output_type": "display_data"
        }
      ],
      "source": [
        "# Ваш код здесь\n",
        "corr_data = data.corr()\n",
        "fig = plt.figure(figsize=(12, 6))\n",
        "sns.heatmap(corr_data, annot=True)"
      ]
    },
    {
      "cell_type": "code",
      "execution_count": 7,
      "id": "ece60ca9",
      "metadata": {},
      "outputs": [
        {
          "name": "stdout",
          "output_type": "stream",
          "text": [
            "ранг корреляционной матрицы: 8\n",
            "определитель корреляционной матрицы: 0.00073\n"
          ]
        }
      ],
      "source": [
        "print(f'ранг корреляционной матрицы: {np.linalg.matrix_rank(corr_data)}')\n",
        "print(f'определитель корреляционной матрицы: {np.linalg.det(corr_data):.5f}')"
      ]
    },
    {
      "cell_type": "markdown",
      "id": "9a56013d",
      "metadata": {
        "id": "9a56013d"
      },
      "source": [
        "> * Выводы\n",
        "\n",
        "> Сильную корреляционную связь с целевым признаком Prod имеют признаки 'Por' - 0.86 и 'Perm' - 0.73. Слабую связь 'VR' - 0.32 Отсутствие связи или очень слабую связь - признаки 'Well' - 0.027 и 'Brittle' - 0.24\n",
        "\n",
        "> Из контекста понятно, что признак 'Well' - идентификатор скважины - будет слабо влиять на целевую пременную.\n",
        "\n",
        "> Хотя ранг матрицы равен числу признаков, судя по величине определителя близкой к нулю матрица плохо обусловлена.\n",
        "\n",
        "> Признаки 'Por' и 'Perm' имеют сильную корреляционную связь между собой - 0.76, 'Por' - 'TOC' 0.71, что означает мультиколленеарность признаков в матрице.\n",
        "\n",
        "> Результатам линейной регрессии построенным на матрице в неизменном виде доверять нельзя. Из-за высокой мультиколлинеарности коэффициенты регрессии теряют смысл, а их интерпретация становится невозможной.\n",
        "Признаки 'Well', 'TOC' и 'Perm' требуется удалить.\n"
      ]
    },
    {
      "cell_type": "markdown",
      "id": "43fd91c4",
      "metadata": {
        "id": "43fd91c4"
      },
      "source": [
        "### Задание 5.2. (2 балла)\n",
        "\n",
        "Создайте матрицу наблюдений `X` и вектор правильных ответов `y`. В качестве факторов для матрицы наблюдений возьмите все имеющиеся в данных признаки. \n",
        "\n",
        "Постройте модель линейной регрессии по методу наименьших квадратов. Для этого воспользуйтесь матричной формулой МНК и инструментарием библиотеки numpy. \n",
        "\n",
        "Выведите на экран полученные оценки коэффициентов модели, округлённые до целого.\n",
        "\n",
        "Приведите подробные выводы по полученным результатам, ответив на следующие вопросы:\n",
        "* Есть ли в ваших данных признаки, которые, согласно модели, можно назвать неинформативными, то есть они не оказывают влияния на целевую переменную или оказывают шумовое влияние?\n",
        "* Приведите интерпретацию нескольких (двух или трёх) коэффициентов полученной модели линейной регрессии.\n"
      ]
    },
    {
      "cell_type": "markdown",
      "id": "QtNtTUzI4Cpq",
      "metadata": {
        "id": "QtNtTUzI4Cpq"
      },
      "source": [
        "**Критерии оценивания:**\n",
        "- Задание выполнено верно, учтены все условия (**2 балла**): \n",
        "    * приведён код для нахождения параметров модели линейной регрессии с помощью матричной формулы МНК;\n",
        "    * на основе полученных параметров даны верные ответы на поставленные вопросы;\n",
        "    * приведена корректная интерпретация нескольких коэффициентов полученной модели линейной регрессии.\n",
        "\n",
        "- Задание выполнено верно, но не учтено одно из условий (**1 балл**).\n",
        "- Задание выполнено неверно, не учтено несколько условий (**0 баллов**)."
      ]
    },
    {
      "cell_type": "code",
      "execution_count": 8,
      "id": "5724288c",
      "metadata": {
        "id": "5724288c"
      },
      "outputs": [
        {
          "name": "stdout",
          "output_type": "stream",
          "text": [
            "0      -0.0\n",
            "1     185.0\n",
            "2     158.0\n",
            "3    -676.0\n",
            "4      20.0\n",
            "5    -273.0\n",
            "6    1125.0\n",
            "dtype: float64\n"
          ]
        }
      ],
      "source": [
        "# Ваш код здесь\n",
        "X = data.drop(['Prod'], axis = 1)\n",
        "y = data['Prod']\n",
        "lr = np.linalg.inv(X.T@X)@X.T@y\n",
        "print(round(lr, 0))"
      ]
    },
    {
      "cell_type": "markdown",
      "id": "bab9ee21",
      "metadata": {
        "id": "bab9ee21"
      },
      "source": [
        "> *Выводы*\n",
        "\n",
        "> Признак Well не информативен так как коэффициент при нем равен 0. Признак Brittle имеет малую корреляцию с целевым признаком по сравнению с остальными  признаками.\n",
        "\n",
        "> Признаки Por, Perm, Brittle, VR имеют положительную корреляцию. Признаки AI, TOC - отрицательную.\n",
        "\n",
        "> При увеличении признака Por (пористость скважины) на единицу %, производительность скважины Prod увеличивается примерно на 185 млн. кубических футов.\n",
        "\n",
        "> При увеличении признака AI (акустический импеданс) на один $кг/м^2*10^6$ производительность скважины падает примерно на 676 млн. кубических футов."
      ]
    },
    {
      "cell_type": "markdown",
      "id": "4a05a4ac",
      "metadata": {
        "id": "4a05a4ac"
      },
      "source": [
        "### Задание 5.3. (1 балл)\n",
        "\n",
        "Теперь потренируемся строить предсказание для наблюдений целевой переменной. \n",
        "\n",
        "**а)** Постройте прогноз выработки газа для скважины со следующими параметрами:\n",
        "\n",
        "```python\n",
        "{\n",
        "    'Well': 106.0,\n",
        "    'Por': 15.32,\n",
        "    'Perm': 3.71,\n",
        "    'AI': 3.29,\n",
        "    'Brittle': 55.99,\n",
        "    'TOC': 1.35,\n",
        "    'VR': 2.42\n",
        " }\n",
        "```\n",
        "\n",
        "Рассчитайте абсолютную ошибку построенного вами прогноза для предложенной скважины (в миллионах кубических футов в день), если известно, что на этой скважине производится `4748.315024` миллионов кубических футов газа в день. \n",
        "\n",
        "**б)** Постройте прогноз выработки газа для всех скважин из обучающего набора данных. Выберите метрику, по которой вы будете оценивать качество регрессионных моделей и сравнивать их между собой (можно использовать несколько метрик, но не более двух).\n",
        "\n",
        "Рассчитайте значение выбранной метрики для вашей модели. Приведите интерпретацию полученного результата. "
      ]
    },
    {
      "cell_type": "markdown",
      "id": "qUDcep5Q5GWU",
      "metadata": {
        "id": "qUDcep5Q5GWU"
      },
      "source": [
        "**Критерии оценивания:**\n",
        "- Задание выполнено верно, учтены все условия (**1 балл**): \n",
        "    * приведён код для построения прогноза выработки газа на указанной скважине и рассчитана абсолютная ошибка прогноза для этой скважины;\n",
        "    * выбрана корректная для поставленной задачи метрика (или метрики) оценки качества модели и приведён код для расчёта этой метрики на всём обучающем наборе данных;\n",
        "    * приведена корректная интерпретация полученного результата.\n",
        "\n",
        "- Задание выполнено верно, но не учтено одно из условий, или задание выполнено неверно (**0 баллов**)."
      ]
    },
    {
      "cell_type": "code",
      "execution_count": 9,
      "id": "e4291db0",
      "metadata": {
        "id": "e4291db0"
      },
      "outputs": [
        {
          "name": "stdout",
          "output_type": "stream",
          "text": [
            "Прогнозируемая производительность новой скважины 4632.0 млн. кубических футов\n",
            "Абсолютная ошибка предсказанной выработки газа новой скважины 117.0 млн. кубических футов\n"
          ]
        }
      ],
      "source": [
        "# Ваш код здесь\n",
        "new = pd.DataFrame([{\n",
        "    'Well': 106.0,\n",
        "    'Por': 15.32,\n",
        "    'Perm': 3.71,\n",
        "    'AI': 3.29,\n",
        "    'Brittle': 55.99,\n",
        "    'TOC': 1.35,\n",
        "    'VR': 2.42\n",
        " }])\n",
        "prod_new = lr@new.iloc[0].to_list()\n",
        "print(f'Прогнозируемая производительность новой скважины {round(prod_new, 0)} млн. кубических футов')\n",
        "e = 4748.315024 - prod_new\n",
        "print(f'Абсолютная ошибка предсказанной выработки газа новой скважины {round(e, 0)} млн. кубических футов')"
      ]
    },
    {
      "cell_type": "code",
      "execution_count": 10,
      "id": "4eb18268",
      "metadata": {},
      "outputs": [
        {
          "data": {
            "text/html": [
              "<div>\n",
              "<style scoped>\n",
              "    .dataframe tbody tr th:only-of-type {\n",
              "        vertical-align: middle;\n",
              "    }\n",
              "\n",
              "    .dataframe tbody tr th {\n",
              "        vertical-align: top;\n",
              "    }\n",
              "\n",
              "    .dataframe thead th {\n",
              "        text-align: right;\n",
              "    }\n",
              "</style>\n",
              "<table border=\"1\" class=\"dataframe\">\n",
              "  <thead>\n",
              "    <tr style=\"text-align: right;\">\n",
              "      <th></th>\n",
              "      <th>Prod</th>\n",
              "      <th>Prod_pred</th>\n",
              "      <th>Abs_error</th>\n",
              "      <th>Rel_error</th>\n",
              "      <th>Sq_error</th>\n",
              "    </tr>\n",
              "  </thead>\n",
              "  <tbody>\n",
              "    <tr>\n",
              "      <th>0</th>\n",
              "      <td>4165.196191</td>\n",
              "      <td>4669.090728</td>\n",
              "      <td>-503.894537</td>\n",
              "      <td>0.120977</td>\n",
              "      <td>253909.704415</td>\n",
              "    </tr>\n",
              "    <tr>\n",
              "      <th>1</th>\n",
              "      <td>3561.146205</td>\n",
              "      <td>3438.866789</td>\n",
              "      <td>122.279416</td>\n",
              "      <td>0.034337</td>\n",
              "      <td>14952.255605</td>\n",
              "    </tr>\n",
              "    <tr>\n",
              "      <th>2</th>\n",
              "      <td>4284.348574</td>\n",
              "      <td>4524.430981</td>\n",
              "      <td>-240.082407</td>\n",
              "      <td>0.056037</td>\n",
              "      <td>57639.562163</td>\n",
              "    </tr>\n",
              "    <tr>\n",
              "      <th>3</th>\n",
              "      <td>5098.680869</td>\n",
              "      <td>5145.359297</td>\n",
              "      <td>-46.678428</td>\n",
              "      <td>0.009155</td>\n",
              "      <td>2178.875617</td>\n",
              "    </tr>\n",
              "    <tr>\n",
              "      <th>4</th>\n",
              "      <td>3406.132832</td>\n",
              "      <td>3743.849682</td>\n",
              "      <td>-337.716850</td>\n",
              "      <td>0.099150</td>\n",
              "      <td>114052.671016</td>\n",
              "    </tr>\n",
              "    <tr>\n",
              "      <th>...</th>\n",
              "      <td>...</td>\n",
              "      <td>...</td>\n",
              "      <td>...</td>\n",
              "      <td>...</td>\n",
              "      <td>...</td>\n",
              "    </tr>\n",
              "    <tr>\n",
              "      <th>195</th>\n",
              "      <td>3847.571003</td>\n",
              "      <td>4094.248600</td>\n",
              "      <td>-246.677597</td>\n",
              "      <td>0.064113</td>\n",
              "      <td>60849.836725</td>\n",
              "    </tr>\n",
              "    <tr>\n",
              "      <th>196</th>\n",
              "      <td>5601.227131</td>\n",
              "      <td>5521.141047</td>\n",
              "      <td>80.086084</td>\n",
              "      <td>0.014298</td>\n",
              "      <td>6413.780812</td>\n",
              "    </tr>\n",
              "    <tr>\n",
              "      <th>197</th>\n",
              "      <td>3409.575363</td>\n",
              "      <td>3279.126178</td>\n",
              "      <td>130.449185</td>\n",
              "      <td>0.038260</td>\n",
              "      <td>17016.989944</td>\n",
              "    </tr>\n",
              "    <tr>\n",
              "      <th>198</th>\n",
              "      <td>5087.592149</td>\n",
              "      <td>5156.782624</td>\n",
              "      <td>-69.190475</td>\n",
              "      <td>0.013600</td>\n",
              "      <td>4787.321870</td>\n",
              "    </tr>\n",
              "    <tr>\n",
              "      <th>199</th>\n",
              "      <td>6662.622385</td>\n",
              "      <td>5841.191278</td>\n",
              "      <td>821.431107</td>\n",
              "      <td>0.123289</td>\n",
              "      <td>674749.063639</td>\n",
              "    </tr>\n",
              "  </tbody>\n",
              "</table>\n",
              "<p>200 rows × 5 columns</p>\n",
              "</div>"
            ],
            "text/plain": [
              "            Prod    Prod_pred   Abs_error  Rel_error       Sq_error\n",
              "0    4165.196191  4669.090728 -503.894537   0.120977  253909.704415\n",
              "1    3561.146205  3438.866789  122.279416   0.034337   14952.255605\n",
              "2    4284.348574  4524.430981 -240.082407   0.056037   57639.562163\n",
              "3    5098.680869  5145.359297  -46.678428   0.009155    2178.875617\n",
              "4    3406.132832  3743.849682 -337.716850   0.099150  114052.671016\n",
              "..           ...          ...         ...        ...            ...\n",
              "195  3847.571003  4094.248600 -246.677597   0.064113   60849.836725\n",
              "196  5601.227131  5521.141047   80.086084   0.014298    6413.780812\n",
              "197  3409.575363  3279.126178  130.449185   0.038260   17016.989944\n",
              "198  5087.592149  5156.782624  -69.190475   0.013600    4787.321870\n",
              "199  6662.622385  5841.191278  821.431107   0.123289  674749.063639\n",
              "\n",
              "[200 rows x 5 columns]"
            ]
          },
          "metadata": {},
          "output_type": "display_data"
        },
        {
          "data": {
            "text/plain": [
              "'Средняя абсолютная ошибка 171.0 млн. кубических футов'"
            ]
          },
          "metadata": {},
          "output_type": "display_data"
        },
        {
          "data": {
            "text/plain": [
              "'Средняя абсолютная процентная ошибка 4.0%'"
            ]
          },
          "metadata": {},
          "output_type": "display_data"
        }
      ],
      "source": [
        "# расчитываем прогнозируемые производительности на всем датасете\n",
        "E = pd.DataFrame(data['Prod'])\n",
        "E['Prod_pred'] = X.apply(lambda row: row.to_numpy() @ lr, axis = 1)\n",
        "# расчитываем абсолютные ошибки прогнозирования\n",
        "E['Abs_error'] = E.apply(lambda row: row['Prod']-row['Prod_pred'], axis = 1)\n",
        "E['Rel_error'] = E.apply(lambda row: abs((row['Prod']-row['Prod_pred'])/row['Prod']), axis = 1)\n",
        "E['Sq_error'] = E.apply(lambda row: np.power(row['Prod']-row['Prod_pred'], 2), axis = 1)\n",
        "display(E)\n",
        "MAE = sum(abs(E['Abs_error'])) / E.shape[0]\n",
        "display(f'Средняя абсолютная ошибка {round(MAE, 0)} млн. кубических футов')\n",
        "MAPE = sum(E['Rel_error'])/ E.shape[0]\n",
        "display(f'Средняя абсолютная процентная ошибка {round(MAPE * 100, 0)}%')\n",
        "#MSE = sum(E['Sq_error']) / E.shape[0]\n",
        "#display(f'Средняя квадратичная ошибка {round(MSE, 6)} кв. млн. кубических футов')"
      ]
    },
    {
      "cell_type": "markdown",
      "id": "7590a4e2",
      "metadata": {},
      "source": [
        "> *Выводы*\n",
        "\n",
        "> В качестве метрик модели выбраны MAE и MAPE, так как их  легче всего интерпретировать для заказачика в данной задаче регрессии.\n",
        "\n",
        "> В среднем модель в предсказании производительности новой скважины ошибается на 171.352796 млн. кубических футов добываемого газа,\n",
        "что составляет чуть меньше 4% от общего действительного объема добываемого газа."
      ]
    },
    {
      "cell_type": "markdown",
      "id": "0c25c3aa",
      "metadata": {
        "id": "0c25c3aa"
      },
      "source": [
        "### Задание 5.4. (1 балл)\n",
        "\n",
        "Настало время анализа построенной модели. Посмотрите на коэффициенты и сравните их знаки со значениями выборочных корреляций между целевым признаком и факторами, которые вы нашли ранее.\n",
        "\n",
        "Дайте развёрнутые ответы на следующие вопросы:\n",
        "\n",
        "* Есть ли в вашей модели фактор, при котором коэффициент в модели линейной регрессии противоречит соответствующему коэффициенту корреляции? Например, корреляция говорит, что зависимость между фактором и целевой переменной прямая, а модель говорит обратное. Если таких факторов несколько, укажите их все.\n",
        "* Как вы считаете, с чем связано полученное противоречие результатов?"
      ]
    },
    {
      "cell_type": "markdown",
      "id": "ngJ3UdYb6Ll6",
      "metadata": {
        "id": "ngJ3UdYb6Ll6"
      },
      "source": [
        "**Критерии оценивания:**\n",
        "\n",
        "- Задание выполнено верно, даны корректные развёрнутые ответы на все поставленные в задании вопросы (**1 балл**). \n",
        "\n",
        "- Задание выполнено неверно, даны некорректные ответы на один или несколько поставленных в задании вопросов (**0 баллов**)."
      ]
    },
    {
      "cell_type": "code",
      "execution_count": 11,
      "id": "v-zIxRPY9wK7",
      "metadata": {
        "id": "v-zIxRPY9wK7"
      },
      "outputs": [
        {
          "name": "stdout",
          "output_type": "stream",
          "text": [
            "Well       0.026817\n",
            "Por        0.861910\n",
            "Perm       0.727426\n",
            "AI        -0.390835\n",
            "Brittle    0.237155\n",
            "TOC        0.654445\n",
            "VR         0.323182\n",
            "Prod       1.000000\n",
            "Name: Prod, dtype: float64\n",
            "0      -0.0\n",
            "1     185.0\n",
            "2     158.0\n",
            "3    -676.0\n",
            "4      20.0\n",
            "5    -273.0\n",
            "6    1125.0\n",
            "dtype: float64\n"
          ]
        }
      ],
      "source": [
        "# Ваш код здесь\n",
        "print(corr_data['Prod'])\n",
        "print(round(lr, 0))"
      ]
    },
    {
      "cell_type": "markdown",
      "id": "qeowwIp99yBf",
      "metadata": {
        "id": "qeowwIp99yBf"
      },
      "source": [
        "> * Выводы\n",
        "\n",
        "> Признак 'TOC' в модели показал коэффициент 0.65, что говорит о прямой зависимости с целевым признаком, а коэффициент корреляции -273. С противоположным знаком, что говорит об обратной зависимости. Данное противоречие можно объяснить тем, что данные не приведены к единому масштабу, не стандартизированы, не удалены признаки сильно скоррелирвоанные между собой и слабоскоррелированые с целевым признаком."
      ]
    },
    {
      "cell_type": "markdown",
      "id": "9cea9195",
      "metadata": {
        "id": "9cea9195"
      },
      "source": [
        "### Задание 5.5. (2 балла)\n",
        "\n",
        "* Исключите из данных сильно коррелированные между собой факторы. Под сильной корреляцией в данной задаче будем понимать значения выше `0.7`.\n",
        "\n",
        "Выбирая, какой из коррелированных факторов оставить, руководствуйтесь коэффициентом корреляции с целевой переменной: оставляйте тот фактор, который больше всего коррелирует с целевой переменной (объёмом добычи газа).\n",
        "\n",
        "* Также исключите из данных факторы, для которых корреляция с целевой переменной меньше `0.05`.\n",
        "\n",
        "Постройте модель линейной регрессии на обновлённых после удаления факторов данных по методу наименьших квадратов. Для этого используйте матричную формулу и библиотеку numpy. Выведите значение полученных коэффициентов, округлённых до целого.\n",
        "\n",
        "Сделайте прогноз для всего обучающего набора данных и рассчитайте выбранную вами ранее метрику (или метрики). \n",
        "\n",
        "Дайте подробные ответы на следующие вопросы:\n",
        "\n",
        "* Приведите интерпретацию нескольких полученных коэффициентов (двух или трёх). Сравните их значения с полученными ранее.\n",
        "* Приведите интерпретацию полученных значений метрик. Сравните их значения с полученными ранее. \n",
        "* Удалось ли вам побороть противоречие коэффициентов линейной регрессии и коэффициентов корреляции?"
      ]
    },
    {
      "cell_type": "markdown",
      "id": "vlUYVjJP6oXN",
      "metadata": {
        "id": "vlUYVjJP6oXN"
      },
      "source": [
        "**Критерии оценивания:**\n",
        "- Задание выполнено верно, учтены все условия (**2 балла**): \n",
        "    * отобраны верные факторы;\n",
        "    * на основе отобранных факторов построена модель линейной регрессии с помощью матричной формулы МНК и найдены параметры модели, соответствующие каждому из факторов;\n",
        "    * построен прогноз для всего обучающего набора данных и рассчитано значение метрики (метрика должна быть выбрана корректно);\n",
        "    * даны ответы на все поставленные в задании вопросы.\n",
        "\n",
        "- Задание выполнено верно, но не учтено одно из условий (**1 балл**).\n",
        "- Задание выполнено верно, не учтено несколько из условий (**0 баллов**)."
      ]
    },
    {
      "cell_type": "code",
      "execution_count": 12,
      "id": "5d5ZJ0lX_UHe",
      "metadata": {
        "id": "5d5ZJ0lX_UHe"
      },
      "outputs": [
        {
          "name": "stdout",
          "output_type": "stream",
          "text": [
            "       Por    AI  Brittle    VR\n",
            "0    12.08  2.80    81.40  2.31\n",
            "1    12.38  3.22    46.17  1.88\n",
            "2    14.02  4.01    72.80  2.72\n",
            "3    17.67  2.63    39.81  1.88\n",
            "4    17.52  3.18    10.94  1.90\n",
            "..     ...   ...      ...   ...\n",
            "195  11.95  2.97    67.18  2.06\n",
            "196  17.99  3.38    44.32  2.08\n",
            "197  12.12  3.52    57.07  1.73\n",
            "198  15.55  2.48    58.25  2.35\n",
            "199  20.89  3.23    46.17  2.27\n",
            "\n",
            "[200 rows x 4 columns]\n",
            "0    235.181367\n",
            "1   -486.001397\n",
            "2     22.192451\n",
            "3    598.128444\n",
            "dtype: float64\n"
          ]
        },
        {
          "data": {
            "text/html": [
              "<div>\n",
              "<style scoped>\n",
              "    .dataframe tbody tr th:only-of-type {\n",
              "        vertical-align: middle;\n",
              "    }\n",
              "\n",
              "    .dataframe tbody tr th {\n",
              "        vertical-align: top;\n",
              "    }\n",
              "\n",
              "    .dataframe thead th {\n",
              "        text-align: right;\n",
              "    }\n",
              "</style>\n",
              "<table border=\"1\" class=\"dataframe\">\n",
              "  <thead>\n",
              "    <tr style=\"text-align: right;\">\n",
              "      <th></th>\n",
              "      <th>Prod</th>\n",
              "      <th>Prod_pred</th>\n",
              "      <th>Abs_error</th>\n",
              "      <th>Rel_error</th>\n",
              "      <th>Sq_error</th>\n",
              "    </tr>\n",
              "  </thead>\n",
              "  <tbody>\n",
              "    <tr>\n",
              "      <th>0</th>\n",
              "      <td>4165.196191</td>\n",
              "      <td>4668.329234</td>\n",
              "      <td>-503.133043</td>\n",
              "      <td>0.120795</td>\n",
              "      <td>253142.858743</td>\n",
              "    </tr>\n",
              "    <tr>\n",
              "      <th>1</th>\n",
              "      <td>3561.146205</td>\n",
              "      <td>3495.727769</td>\n",
              "      <td>65.418436</td>\n",
              "      <td>0.018370</td>\n",
              "      <td>4279.571815</td>\n",
              "    </tr>\n",
              "    <tr>\n",
              "      <th>2</th>\n",
              "      <td>4284.348574</td>\n",
              "      <td>4590.896976</td>\n",
              "      <td>-306.548402</td>\n",
              "      <td>0.071551</td>\n",
              "      <td>93971.922572</td>\n",
              "    </tr>\n",
              "    <tr>\n",
              "      <th>3</th>\n",
              "      <td>5098.680869</td>\n",
              "      <td>4885.434033</td>\n",
              "      <td>213.246836</td>\n",
              "      <td>0.041824</td>\n",
              "      <td>45474.213275</td>\n",
              "    </tr>\n",
              "    <tr>\n",
              "      <th>4</th>\n",
              "      <td>3406.132832</td>\n",
              "      <td>3954.122560</td>\n",
              "      <td>-547.989728</td>\n",
              "      <td>0.160883</td>\n",
              "      <td>300292.742334</td>\n",
              "    </tr>\n",
              "    <tr>\n",
              "      <th>...</th>\n",
              "      <td>...</td>\n",
              "      <td>...</td>\n",
              "      <td>...</td>\n",
              "      <td>...</td>\n",
              "      <td>...</td>\n",
              "    </tr>\n",
              "    <tr>\n",
              "      <th>195</th>\n",
              "      <td>3847.571003</td>\n",
              "      <td>4090.026651</td>\n",
              "      <td>-242.455648</td>\n",
              "      <td>0.063015</td>\n",
              "      <td>58784.741208</td>\n",
              "    </tr>\n",
              "    <tr>\n",
              "      <th>196</th>\n",
              "      <td>5601.227131</td>\n",
              "      <td>4815.904666</td>\n",
              "      <td>785.322465</td>\n",
              "      <td>0.140205</td>\n",
              "      <td>616731.374225</td>\n",
              "    </tr>\n",
              "    <tr>\n",
              "      <th>197</th>\n",
              "      <td>3409.575363</td>\n",
              "      <td>3440.958646</td>\n",
              "      <td>-31.383283</td>\n",
              "      <td>0.009204</td>\n",
              "      <td>984.910472</td>\n",
              "    </tr>\n",
              "    <tr>\n",
              "      <th>198</th>\n",
              "      <td>5087.592149</td>\n",
              "      <td>5150.098914</td>\n",
              "      <td>-62.506765</td>\n",
              "      <td>0.012286</td>\n",
              "      <td>3907.095714</td>\n",
              "    </tr>\n",
              "    <tr>\n",
              "      <th>199</th>\n",
              "      <td>6662.622385</td>\n",
              "      <td>5725.531278</td>\n",
              "      <td>937.091107</td>\n",
              "      <td>0.140649</td>\n",
              "      <td>878139.743195</td>\n",
              "    </tr>\n",
              "  </tbody>\n",
              "</table>\n",
              "<p>200 rows × 5 columns</p>\n",
              "</div>"
            ],
            "text/plain": [
              "            Prod    Prod_pred   Abs_error  Rel_error       Sq_error\n",
              "0    4165.196191  4668.329234 -503.133043   0.120795  253142.858743\n",
              "1    3561.146205  3495.727769   65.418436   0.018370    4279.571815\n",
              "2    4284.348574  4590.896976 -306.548402   0.071551   93971.922572\n",
              "3    5098.680869  4885.434033  213.246836   0.041824   45474.213275\n",
              "4    3406.132832  3954.122560 -547.989728   0.160883  300292.742334\n",
              "..           ...          ...         ...        ...            ...\n",
              "195  3847.571003  4090.026651 -242.455648   0.063015   58784.741208\n",
              "196  5601.227131  4815.904666  785.322465   0.140205  616731.374225\n",
              "197  3409.575363  3440.958646  -31.383283   0.009204     984.910472\n",
              "198  5087.592149  5150.098914  -62.506765   0.012286    3907.095714\n",
              "199  6662.622385  5725.531278  937.091107   0.140649  878139.743195\n",
              "\n",
              "[200 rows x 5 columns]"
            ]
          },
          "metadata": {},
          "output_type": "display_data"
        },
        {
          "data": {
            "text/plain": [
              "'Средняя абсолютная ошибка 217.0 млн. кубических футов'"
            ]
          },
          "metadata": {},
          "output_type": "display_data"
        },
        {
          "data": {
            "text/plain": [
              "'Средняя абсолютная процентная ошибка 5.0%'"
            ]
          },
          "metadata": {},
          "output_type": "display_data"
        }
      ],
      "source": [
        "# Ваш код здесь\n",
        "X_cleaned = X.drop(['Well', 'Perm', 'TOC'], axis = 1)\n",
        "print(X_cleaned)\n",
        "lr_cleaned = np.linalg.inv(X_cleaned.T @ X_cleaned) @ X_cleaned.T @ y\n",
        "print(lr_cleaned)\n",
        "E_cleaned = pd.DataFrame(data['Prod'])\n",
        "E_cleaned['Prod_pred'] = X_cleaned.apply(lambda row: row.to_numpy() @ lr_cleaned, axis = 1)\n",
        "# расчитываем абсолютные ошибки прогнозирования\n",
        "E_cleaned['Abs_error'] = E_cleaned.apply(lambda row: row['Prod']-row['Prod_pred'], axis = 1)\n",
        "E_cleaned['Rel_error'] = E_cleaned.apply(lambda row: abs((row['Prod']-row['Prod_pred'])/row['Prod']), axis = 1)\n",
        "E_cleaned['Sq_error'] = E_cleaned.apply(lambda row: np.power(row['Prod']-row['Prod_pred'], 2), axis = 1)\n",
        "display(E_cleaned)\n",
        "MAE_cleaned = sum(abs(E_cleaned['Abs_error'])) / E_cleaned.shape[0]\n",
        "display(f'Средняя абсолютная ошибка {round(MAE_cleaned, 0)} млн. кубических футов')\n",
        "MAPE_cleaned = sum(E_cleaned['Rel_error'])/ E_cleaned.shape[0]\n",
        "display(f'Средняя абсолютная процентная ошибка {round(MAPE_cleaned * 100, 0)}%')\n",
        "#MSE_cleaned = sum(E_cleaned['Sq_error']) / E_cleaned.shape[0]\n",
        "#display(f'Средняя квадратичная ошибка {round(MSE_cleaned, 6)} млн. кубических футов в кв.')"
      ]
    },
    {
      "cell_type": "markdown",
      "id": "KxbYvMDo_WLe",
      "metadata": {
        "id": "KxbYvMDo_WLe"
      },
      "source": [
        "> * Выводы\n",
        "\n",
        "> Модель линейной регрессии с очисткой от мультиколлиневрных признаков показало увеличение ошибок в метриках MAE и MAPE, по сравнению с моделью без очистки. Однако противоречие коэффициентов линейной регрессии и коэффициентов корреляции удалось побороть."
      ]
    },
    {
      "cell_type": "markdown",
      "id": "7d50db12",
      "metadata": {
        "id": "7d50db12"
      },
      "source": [
        "### Задание 5.6. (1 балл)\n",
        "\n",
        "Наконец, давайте построим модель линейной регрессии из библиотеки `scikit-learn (sklearn)` и сравним результаты её работы с теми, что нам удалось получить вручную. \n",
        "\n",
        "Постройте модель линейной регрессии на обновлённых после удаления факторов данных по методу наименьших квадратов. Для этого воспользуйтесь классом `LinearRegression` из библиотеки `sklearn`. Выведите значения полученных коэффициентов, округлённые до целого.\n",
        "\n",
        "Сделайте прогноз для всего обучающего набора данных и рассчитайте значение выбранной вами метрики (или метрик).\n",
        "\n",
        "Сравните результаты библиотечной реализации с тем, что вы получили ранее. "
      ]
    },
    {
      "cell_type": "markdown",
      "id": "emu5D3w278JP",
      "metadata": {
        "id": "emu5D3w278JP"
      },
      "source": [
        "**Критерии оценивания:**\n",
        "\n",
        "- Задание выполнено верно, учтены все условия (**1 балл**): \n",
        "    * на основе отобранных факторов построена модель линейной регрессии из библиотеки sklearn и найдены параметры модели, соответствующие каждому из факторов;\n",
        "    * построен прогноз для всего обучающего набора данных и рассчитано значение метрики (метрика должна быть выбрана корректно);\n",
        "    * приведён вывод о соответствии результатов, полученных вручную и с помощью библиотеки.\n",
        "- Задание выполнено неверно, не учтено одно или несколько условий (**0 баллов**)."
      ]
    },
    {
      "cell_type": "code",
      "execution_count": 13,
      "id": "Gpdpfq59AKGu",
      "metadata": {
        "id": "Gpdpfq59AKGu"
      },
      "outputs": [
        {
          "name": "stdout",
          "output_type": "stream",
          "text": [
            "[ 235.18136665 -486.00139708   22.19245125  598.12844353]\n",
            "Средняя абсолютная ошибка 217.0 млн. кубических футов\n",
            "Средняя абсолютная процентная ошибка 5.0%\n"
          ]
        }
      ],
      "source": [
        "# Ваш код здесь\n",
        "lr_sk = LinearRegression(fit_intercept=False)\n",
        "lr_sk.fit(X_cleaned, y)\n",
        "print(lr_sk.coef_)\n",
        "y_pred = lr_sk.predict(X_cleaned)\n",
        "print(f'Средняя абсолютная ошибка {round(metrics.mean_absolute_error(y, y_pred), 0)} млн. кубических футов')\n",
        "print(f'Средняя абсолютная процентная ошибка {round(metrics.mean_absolute_percentage_error(y, y_pred) * 100, 0)}%')\n",
        "#print(f'Средняя квадратичная ошибка {round(metrics.mean_squared_error(y, y_pred), 0)} млн. кубических футов в кв.')\n"
      ]
    },
    {
      "cell_type": "markdown",
      "id": "WT9cdHAbAMG7",
      "metadata": {
        "id": "WT9cdHAbAMG7"
      },
      "source": [
        "> * Выводы\n",
        "\n",
        "> Расчеты при помощи модуля LinearRegression библиотеки sklearn показали одинаковые результаты с расчетами по аналитической формуле."
      ]
    },
    {
      "cell_type": "markdown",
      "id": "5346338e",
      "metadata": {
        "id": "5346338e"
      },
      "source": [
        "## Практика: полиномиальная регрессия и регуляризация"
      ]
    },
    {
      "cell_type": "markdown",
      "id": "aad9e3a6",
      "metadata": {
        "id": "aad9e3a6"
      },
      "source": [
        "Мы продолжаем работать над задачей от владельца компании «Газ-Таз-Ваз-Нефть» Василия.\n",
        "\n",
        "Ранее мы построили модель линейной регрессии, которая прогнозирует выработку газа на скважине. Для этого мы с помощью матрицы корреляций и рассуждений отобрали некоррелированные, значимые для предсказания признаки. **Далее мы будем использовать именно их (см. задание 5.5).**\n",
        "\n",
        "Мы хотим улучшить результат — уменьшить ошибку прогноза. Для этого мы воспользуемся моделью полиномиальной регрессии третьей степени. Однако теперь мы знаем, что полиномиальным моделям очень легко переобучиться под исходную выборку. Так как данных у нас не так много (всего 200 скважин), то для контроля качества модели мы будем использовать кросс-валидацию. \n",
        "\n",
        "Приступим! Выполните задания 8.1–8.5:\n"
      ]
    },
    {
      "cell_type": "code",
      "execution_count": 14,
      "id": "18506d1b",
      "metadata": {
        "id": "18506d1b"
      },
      "outputs": [],
      "source": [
        "from sklearn.preprocessing import PolynomialFeatures, StandardScaler\n",
        "from sklearn.linear_model import LinearRegression, Lasso, Ridge, ElasticNet\n",
        "from sklearn.model_selection import GridSearchCV\n",
        "from sklearn.model_selection import cross_validate"
      ]
    },
    {
      "cell_type": "markdown",
      "id": "bfbfea8d",
      "metadata": {
        "id": "bfbfea8d"
      },
      "source": [
        "### Задание 8.1. (1 балл)\n",
        "\n",
        "Стандаризируйте признаки с помощью `StandartScaler` из библиотеки `sklearn`. \n",
        "\n",
        "Затем сгенерируйте полиномиальные признаки третьего порядка на факторах, которые вы выбрали для обучения моделей. Для этого воспользуйтесь генератором полиномов `PolynomialFeatures` из библиотеки `sklearn`. Параметр `include_bias` установите в значение `False`.\n",
        "\n",
        "Выведите на экран, сколько факторов у вас получилось после генерации полиномиальных признаков.\n",
        "\n",
        "**Важно:** стандартизацию необходимо произвести до генерации полиномиальных факторов!\n",
        "\n",
        "Обучите модель линейной регрессии из библиотеки `sklearn` (`LinearRegression`) на полученных полиномиальных факторах.\n",
        "\n",
        "Используя кросс-валидацию оцените среднее значение выбранной вами метрики (или метрик) на тренировочных и валидационных фолдах.\n",
        "\n",
        "Проинтерпретируйте полученные результаты."
      ]
    },
    {
      "cell_type": "markdown",
      "id": "Y8oAhQkr8gV-",
      "metadata": {
        "id": "Y8oAhQkr8gV-"
      },
      "source": [
        "**Критерии оценивания:**\n",
        "\n",
        "- Задание выполнено верно, учтены все условия (**1 балл**): \n",
        "    * на основе отобранных факторов сгенерированы полиномиальные признаки третьего порядка;\n",
        "    * построена модель полиномиальной регрессии (линейной регрессии на полиномиальных признаках);\n",
        "    * с помощью кросс-валидации оценено среднее значение выбранной студентом метрики (или метрик) на тренировочных и валидационных фолдах (метрика должна быть выбрана корректно).\n",
        "- Задание выполнено неверно, не учтено одно или несколько из условий (**0 баллов**)."
      ]
    },
    {
      "cell_type": "code",
      "execution_count": 92,
      "id": "-ln3bx8NFNRw",
      "metadata": {
        "id": "-ln3bx8NFNRw"
      },
      "outputs": [
        {
          "data": {
            "text/html": [
              "<div>\n",
              "<style scoped>\n",
              "    .dataframe tbody tr th:only-of-type {\n",
              "        vertical-align: middle;\n",
              "    }\n",
              "\n",
              "    .dataframe tbody tr th {\n",
              "        vertical-align: top;\n",
              "    }\n",
              "\n",
              "    .dataframe thead th {\n",
              "        text-align: right;\n",
              "    }\n",
              "</style>\n",
              "<table border=\"1\" class=\"dataframe\">\n",
              "  <thead>\n",
              "    <tr style=\"text-align: right;\">\n",
              "      <th></th>\n",
              "      <th>Por</th>\n",
              "      <th>AI</th>\n",
              "      <th>Brittle</th>\n",
              "      <th>VR</th>\n",
              "    </tr>\n",
              "  </thead>\n",
              "  <tbody>\n",
              "    <tr>\n",
              "      <th>0</th>\n",
              "      <td>-0.982256</td>\n",
              "      <td>-0.298603</td>\n",
              "      <td>2.358297</td>\n",
              "      <td>1.152048</td>\n",
              "    </tr>\n",
              "    <tr>\n",
              "      <th>1</th>\n",
              "      <td>-0.881032</td>\n",
              "      <td>0.444147</td>\n",
              "      <td>-0.141332</td>\n",
              "      <td>-0.280931</td>\n",
              "    </tr>\n",
              "    <tr>\n",
              "      <th>2</th>\n",
              "      <td>-0.327677</td>\n",
              "      <td>1.841224</td>\n",
              "      <td>1.748113</td>\n",
              "      <td>2.518377</td>\n",
              "    </tr>\n",
              "    <tr>\n",
              "      <th>3</th>\n",
              "      <td>0.903875</td>\n",
              "      <td>-0.599240</td>\n",
              "      <td>-0.592585</td>\n",
              "      <td>-0.280931</td>\n",
              "    </tr>\n",
              "    <tr>\n",
              "      <th>4</th>\n",
              "      <td>0.853263</td>\n",
              "      <td>0.373409</td>\n",
              "      <td>-2.640962</td>\n",
              "      <td>-0.214280</td>\n",
              "    </tr>\n",
              "    <tr>\n",
              "      <th>...</th>\n",
              "      <td>...</td>\n",
              "      <td>...</td>\n",
              "      <td>...</td>\n",
              "      <td>...</td>\n",
              "    </tr>\n",
              "    <tr>\n",
              "      <th>195</th>\n",
              "      <td>-1.026119</td>\n",
              "      <td>0.002034</td>\n",
              "      <td>1.349364</td>\n",
              "      <td>0.318921</td>\n",
              "    </tr>\n",
              "    <tr>\n",
              "      <th>196</th>\n",
              "      <td>1.011847</td>\n",
              "      <td>0.727099</td>\n",
              "      <td>-0.272593</td>\n",
              "      <td>0.385571</td>\n",
              "    </tr>\n",
              "    <tr>\n",
              "      <th>197</th>\n",
              "      <td>-0.968759</td>\n",
              "      <td>0.974682</td>\n",
              "      <td>0.632042</td>\n",
              "      <td>-0.780807</td>\n",
              "    </tr>\n",
              "    <tr>\n",
              "      <th>198</th>\n",
              "      <td>0.188562</td>\n",
              "      <td>-0.864508</td>\n",
              "      <td>0.715765</td>\n",
              "      <td>1.285349</td>\n",
              "    </tr>\n",
              "    <tr>\n",
              "      <th>199</th>\n",
              "      <td>1.990340</td>\n",
              "      <td>0.461831</td>\n",
              "      <td>-0.141332</td>\n",
              "      <td>1.018748</td>\n",
              "    </tr>\n",
              "  </tbody>\n",
              "</table>\n",
              "<p>200 rows × 4 columns</p>\n",
              "</div>"
            ],
            "text/plain": [
              "          Por        AI   Brittle        VR\n",
              "0   -0.982256 -0.298603  2.358297  1.152048\n",
              "1   -0.881032  0.444147 -0.141332 -0.280931\n",
              "2   -0.327677  1.841224  1.748113  2.518377\n",
              "3    0.903875 -0.599240 -0.592585 -0.280931\n",
              "4    0.853263  0.373409 -2.640962 -0.214280\n",
              "..        ...       ...       ...       ...\n",
              "195 -1.026119  0.002034  1.349364  0.318921\n",
              "196  1.011847  0.727099 -0.272593  0.385571\n",
              "197 -0.968759  0.974682  0.632042 -0.780807\n",
              "198  0.188562 -0.864508  0.715765  1.285349\n",
              "199  1.990340  0.461831 -0.141332  1.018748\n",
              "\n",
              "[200 rows x 4 columns]"
            ]
          },
          "metadata": {},
          "output_type": "display_data"
        },
        {
          "name": "stdout",
          "output_type": "stream",
          "text": [
            "количество полиноминальных признаков 34\n",
            "MAE на тренировочных фолдах: 1737.69\n",
            "MAE на валидационных фолдах: 2565.90\n",
            "MAPE на тренировочных фолдах: 41.85 %\n",
            "MAPE на валидационных фолдах: 62.35 %\n"
          ]
        }
      ],
      "source": [
        "# Ваш код здесь\n",
        "scaler = StandardScaler()\n",
        "X_scaled=scaler.fit_transform(X_cleaned)\n",
        "display(pd.DataFrame(X_scaled, columns=list(X_cleaned.columns)))\n",
        "poly = PolynomialFeatures(degree=3, include_bias=False)\n",
        "X_scaled_poly=poly.fit_transform(X_scaled)\n",
        "print(f'количество полиноминальных признаков {X_scaled_poly.shape[1]}')\n",
        "lr_poly = LinearRegression(fit_intercept=False)\n",
        "# оцениваем качество модели на кросс-валидации\n",
        "cv_results_mae = cross_validate(lr_poly, X_scaled_poly, y, scoring='neg_mean_absolute_error', cv=5, return_train_score=True)\n",
        "print('MAE на тренировочных фолдах: {:.2f}'.format(-cv_results_mae['train_score'].mean()))\n",
        "print('MAE на валидационных фолдах: {:.2f}'.format(-cv_results_mae['test_score'].mean()))\n",
        "cv_results_mape = cross_validate(lr_poly, X_scaled_poly, y, scoring='neg_mean_absolute_percentage_error', cv=5, return_train_score=True)\n",
        "print('MAPE на тренировочных фолдах: {:.2f} %'.format(-cv_results_mape['train_score'].mean() * 100))\n",
        "print('MAPE на валидационных фолдах: {:.2f} %'.format(-cv_results_mape['test_score'].mean() * 100))"
      ]
    },
    {
      "cell_type": "markdown",
      "id": "9DkuuLLtFPPy",
      "metadata": {
        "id": "9DkuuLLtFPPy"
      },
      "source": [
        "> * Выводы\n",
        "\n",
        "> Полиноминальная регрессия показала высокие показатели ошибки MAE и MAPE, что говорит о низкой пресказательной способности модели."
      ]
    },
    {
      "cell_type": "markdown",
      "id": "63d06013",
      "metadata": {
        "id": "63d06013"
      },
      "source": [
        "### Задание 8.2. (2 балла)\n",
        "\n",
        "Теперь попробуем воспользоваться линейной регрессией с регуляризацией. Для начала возьмём $L_1$-регуляризацию.\n",
        "\n",
        "Обучите модель `Lasso` из библиотеки `sklearn` на полученных полиномиальных факторах, предварительно стандартизировав факторы. \n",
        "\n",
        "Коэффициент регуляризации (`alpha`) подберите самостоятельно с помощью любого известного вам метода подбора гиперпаметров.\n",
        "\n",
        "Используя кросс-валидацию, оцените среднее значение выбранной вами метрики (или метрик) на тренировочных и валидационных фолдах.\n",
        "\n",
        "Проинтерпретируйте полученные результаты."
      ]
    },
    {
      "cell_type": "markdown",
      "id": "z24YUfuA9rUq",
      "metadata": {
        "id": "z24YUfuA9rUq"
      },
      "source": [
        "**Критерии оценивания:**\n",
        "\n",
        "- Задание выполнено верно, учтены все условия (**2 балла**): \n",
        "    * правильно построена модель полиномиальной регрессии (линейной регрессии на полиномиальных признаках) с регуляризацией (Lasso), учтены условия необходимости масштабирования факторов для построения модели;\n",
        "    * приведён код для подбора параметра регуляризации (вручную или с помощью библиотечных инструментов);\n",
        "    * с помощью кросс-валидации оценено среднее значение выбранной студентом метрики (или метрик) на тренировочных и валидационных фолдах (метрика должна быть выбрана корректно).\n",
        "\n",
        "- Задание выполнено верно, но не учтено одно из условий (**1 балл**).\n",
        "- Задание выполнено неверно, не учтено несколько условий (**0 баллов**)."
      ]
    },
    {
      "cell_type": "code",
      "execution_count": 24,
      "id": "d7f88bcd",
      "metadata": {},
      "outputs": [],
      "source": [
        "from sklearn.model_selection import RandomizedSearchCV"
      ]
    },
    {
      "cell_type": "code",
      "execution_count": 118,
      "id": "IJ5b5G8qFz-r",
      "metadata": {
        "id": "IJ5b5G8qFz-r"
      },
      "outputs": [
        {
          "name": "stdout",
          "output_type": "stream",
          "text": [
            "CPU times: total: 1.39 s\n",
            "Wall time: 19.6 s\n",
            "Наилучшие значения гиперпараметров: {'alpha': 76.10000000000001}\n"
          ]
        }
      ],
      "source": [
        "# Ваш код здесь\n",
        "param_grid_lasso = {'alpha': list(np.arange(0, 100, 0.1))}\n",
        "\n",
        "grid_search_lasso = GridSearchCV(\n",
        "    estimator=Lasso(max_iter=10000, fit_intercept = False, random_state=42), \n",
        "    param_grid=param_grid_lasso, \n",
        "    cv=5,\n",
        "    n_jobs = -1\n",
        ")\n",
        "\n",
        "%time grid_search_lasso.fit(X_scaled_poly, y) \n",
        "y_pred_lasso = grid_search_lasso.predict(X_scaled_poly)\n",
        "print(\"Наилучшие значения гиперпараметров: {}\".format(grid_search_lasso.best_params_))\n",
        "alpha = grid_search_lasso.best_params_['alpha']\n"
      ]
    },
    {
      "cell_type": "code",
      "execution_count": 119,
      "id": "2de30309",
      "metadata": {},
      "outputs": [
        {
          "name": "stdout",
          "output_type": "stream",
          "text": [
            "MAE на тренировочных фолдах: 1918.96\n",
            "MAE на валидационных фолдах: 2349.48\n",
            "MAPE на тренировочных фолдах: 45.54 %\n",
            "MAPE на валидационных фолдах: 56.62 %\n"
          ]
        }
      ],
      "source": [
        "lasso = Lasso(alpha = alpha, max_iter=10000, fit_intercept = False, random_state=42)\n",
        "cv_results_mae_lasso = cross_validate(lasso, X_scaled_poly, y, scoring='neg_mean_absolute_error', cv=5, return_train_score=True)\n",
        "print('MAE на тренировочных фолдах: {:.2f}'.format(-cv_results_mae_lasso['train_score'].mean()))\n",
        "print('MAE на валидационных фолдах: {:.2f}'.format(-cv_results_mae_lasso['test_score'].mean()))\n",
        "cv_results_mape_lasso = cross_validate(lasso, X_scaled_poly, y, scoring='neg_mean_absolute_percentage_error', cv=5, return_train_score=True)\n",
        "print('MAPE на тренировочных фолдах: {:.2f} %'.format(-cv_results_mape_lasso['train_score'].mean() * 100))\n",
        "print('MAPE на валидационных фолдах: {:.2f} %'.format(-cv_results_mape_lasso['test_score'].mean() * 100))"
      ]
    },
    {
      "cell_type": "markdown",
      "id": "Se0OGR8UF2Td",
      "metadata": {
        "id": "Se0OGR8UF2Td"
      },
      "source": [
        "> * Выводы\n",
        "\n",
        "> Полиноминальная регрессия третьей степени с регуляризацией типа Lasso показала высокие показатели ошибки MAE и MAPE, что говорит о низкой пресказательной способности модели."
      ]
    },
    {
      "cell_type": "markdown",
      "id": "2975ae60",
      "metadata": {
        "id": "2975ae60"
      },
      "source": [
        "### Задание 8.3. (2 балла)\n",
        "\n",
        "Проделаем то же самое с $L_2$-регуляризацией.\n",
        "\n",
        "Обучите модель `Ridge` из библиотеки `sklearn` на полученных полиномиальных факторах, предварительно стандартизировав факторы. \n",
        "\n",
        "Коэффициент регуляризации (`alpha`) подберите самостоятельно с помощью любого известного вам метода подбора гиперпаметров.\n",
        "\n",
        "Используя кросс-валидацию оцените среднее значение выбранной вами метрики (или метрик) на тренировочных и валидационных фолдах.\n",
        "\n",
        "Проинтерпретируйте полученные результаты."
      ]
    },
    {
      "cell_type": "code",
      "execution_count": 121,
      "id": "UfPGyNsjGGS8",
      "metadata": {
        "id": "UfPGyNsjGGS8"
      },
      "outputs": [
        {
          "name": "stdout",
          "output_type": "stream",
          "text": [
            "CPU times: total: 1.89 s\n",
            "Wall time: 2.48 s\n",
            "Наилучшие значения гиперпараметров: {'alpha': 141.70000000000002}\n"
          ]
        }
      ],
      "source": [
        "# Ваш код здесь\n",
        "param_grid_ridge = {'alpha': list(np.arange(0, 200, 0.1))}\n",
        "\n",
        "grid_search_ridge = GridSearchCV(\n",
        "    estimator=Ridge(max_iter=10000, fit_intercept = False, random_state=42), \n",
        "    param_grid=param_grid_ridge, \n",
        "    cv=5,\n",
        "    n_jobs = -1\n",
        ")\n",
        "\n",
        "%time grid_search_ridge.fit(X_scaled_poly, y) \n",
        "y_pred_ridge = grid_search_ridge.predict(X_scaled_poly)\n",
        "print(\"Наилучшие значения гиперпараметров: {}\".format(grid_search_ridge.best_params_))\n",
        "alpha_ridge = grid_search_ridge.best_params_['alpha']"
      ]
    },
    {
      "cell_type": "code",
      "execution_count": 122,
      "id": "e4450ed2",
      "metadata": {},
      "outputs": [
        {
          "name": "stdout",
          "output_type": "stream",
          "text": [
            "MAE на тренировочных фолдах: 2239.44\n",
            "MAE на валидационных фолдах: 2476.69\n",
            "MAPE на тренировочных фолдах: 52.07 %\n",
            "MAPE на валидационных фолдах: 58.02 %\n"
          ]
        }
      ],
      "source": [
        "ridge = Ridge(alpha = alpha_ridge, max_iter=10000, fit_intercept = False, random_state=42)\n",
        "cv_results_mae_ridge = cross_validate(ridge, X_scaled_poly, y, scoring='neg_mean_absolute_error', cv=5, return_train_score=True)\n",
        "print('MAE на тренировочных фолдах: {:.2f}'.format(-cv_results_mae_ridge['train_score'].mean()))\n",
        "print('MAE на валидационных фолдах: {:.2f}'.format(-cv_results_mae_ridge['test_score'].mean()))\n",
        "cv_results_mape_ridge = cross_validate(ridge, X_scaled_poly, y, scoring='neg_mean_absolute_percentage_error', cv=5, return_train_score=True)\n",
        "print('MAPE на тренировочных фолдах: {:.2f} %'.format(-cv_results_mape_ridge['train_score'].mean() * 100))\n",
        "print('MAPE на валидационных фолдах: {:.2f} %'.format(-cv_results_mape_ridge['test_score'].mean() * 100))"
      ]
    },
    {
      "cell_type": "markdown",
      "id": "dQBd7ny_GIi1",
      "metadata": {
        "id": "dQBd7ny_GIi1"
      },
      "source": [
        "> * Выводы \n",
        "\n",
        "> Полиноминальная регрессия  третьей степени с регуляризацией типа Ridge показала высокие показатели ошибки MAE и MAPE, что говорит о низкой пресказательной способности модели."
      ]
    },
    {
      "cell_type": "markdown",
      "id": "86pXnWE7-5ch",
      "metadata": {
        "id": "86pXnWE7-5ch"
      },
      "source": [
        "**Критерии оценивания:**\n",
        "\n",
        "- Задание выполнено верно, учтены все условия (**2 балла**): \n",
        "    * правильно построена модель полиномиальной регрессии (линейной регрессии на полиномиальных признаках) с регуляризацией (Ridge), учтены условия необходимости масштабирования факторов для построения модели;\n",
        "    * приведён код для подбора параметра регуляризации (вручную или с помощью библиотечных инструментов);\n",
        "    * с помощью кросс-валидации оценено среднее значение выбранной студентом метрики (или метрик) на тренировочных и валидационных фолдах (метрика должна быть выбрана корректно).\n",
        "\n",
        "- Задание выполнено верно, но не учтено одно из условий (**1 балл**).\n",
        "- Задание выполнено неверно, не учтено несколько условий (**0 баллов**)."
      ]
    },
    {
      "cell_type": "markdown",
      "id": "7ad85b78",
      "metadata": {
        "id": "7ad85b78"
      },
      "source": [
        "### Задание 8.4. (2 балла)\n",
        "\n",
        "Наконец, настало время комбинировать $L_1$ и $L_2$ -регуляризации.\n",
        "\n",
        "Обучите модель `ElasticNet` из библиотеки `sklearn` на полученных полиномиальных факторах, предварительно стандартизировав факторы. \n",
        "\n",
        "Коэффициенты регуляризации (`alpha` и `l1-ratio`) подберите самостоятельно с помощью любого известного вам метода подбора гиперпаметров.\n",
        "\n",
        "Используя кросс-валидацию, оцените среднее значение метрики MAPE на тренировочных и валидационных фолдах.\n",
        "\n",
        "Проинтерпретируйте полученные результаты."
      ]
    },
    {
      "cell_type": "markdown",
      "id": "sy8ESceQ-__u",
      "metadata": {
        "id": "sy8ESceQ-__u"
      },
      "source": [
        "**Критерии оценивания:**\n",
        "\n",
        "- Задание выполнено верно, учтены все условия (**2 балла**): \n",
        "    * правильно построена модель полиномиальной регрессии (линейной регрессии на полиномиальных признаках) с регуляризацией (ElasticNet), учтены условия необходимости масштабирования факторов для построения модели;\n",
        "    * приведён код для подбора параметра регуляризации (вручную или с помощью библиотечных инструментов);\n",
        "    * с помощью кросс-валидации оценено среднее значение выбранной студентом метрики (или метрик) на тренировочных и валидационных фолдах (метрика должна быть выбрана корректно).\n",
        "\n",
        "- Задание выполнено верно, но не учтено одно из условий (**1 балл**).\n",
        "- Задание выполнено неверно, не учтено несколько условий (**0 баллов**)."
      ]
    },
    {
      "cell_type": "code",
      "execution_count": 124,
      "id": "-Yi3P20hQnLS",
      "metadata": {
        "id": "-Yi3P20hQnLS"
      },
      "outputs": [
        {
          "name": "stdout",
          "output_type": "stream",
          "text": [
            "CPU times: total: 1.05 s\n",
            "Wall time: 3.3 s\n",
            "Наилучшие значения гиперпараметров: {'alpha': 8.200000000000001, 'l1_ratio': 0.9}\n"
          ]
        }
      ],
      "source": [
        "# Ваш код здесь\n",
        "param_grid_en = {'alpha': list(np.arange(0, 10, 0.1)), 'l1_ratio': list(np.arange(0, 1, 0.1))}\n",
        "\n",
        "grid_search_en = GridSearchCV(\n",
        "    estimator=ElasticNet(max_iter=10000, fit_intercept = False, random_state=42), \n",
        "    param_grid=param_grid_en, \n",
        "    cv=5,\n",
        "    n_jobs = -1\n",
        ")\n",
        "\n",
        "%time grid_search_en.fit(X_scaled_poly, y) \n",
        "y_pred_en = grid_search_en.predict(X_scaled_poly)\n",
        "print(\"Наилучшие значения гиперпараметров: {}\".format(grid_search_en.best_params_))\n",
        "alpha_en = grid_search_en.best_params_['alpha']\n",
        "l1 = grid_search_en.best_params_['l1_ratio']"
      ]
    },
    {
      "cell_type": "code",
      "execution_count": 125,
      "id": "8aba7725",
      "metadata": {},
      "outputs": [
        {
          "name": "stdout",
          "output_type": "stream",
          "text": [
            "MAE на тренировочных фолдах: 2225.53\n",
            "MAE на валидационных фолдах: 2465.18\n",
            "MAPE на тренировочных фолдах: 51.78 %\n",
            "MAPE на валидационных фолдах: 57.80 %\n"
          ]
        }
      ],
      "source": [
        "elasticnet = ElasticNet(alpha = alpha_en, l1_ratio = l1, max_iter=10000, fit_intercept = False, random_state=42)\n",
        "cv_results_mae_en = cross_validate(elasticnet, X_scaled_poly, y, scoring='neg_mean_absolute_error', cv=5, return_train_score=True)\n",
        "print('MAE на тренировочных фолдах: {:.2f}'.format(-cv_results_mae_en['train_score'].mean()))\n",
        "print('MAE на валидационных фолдах: {:.2f}'.format(-cv_results_mae_en['test_score'].mean()))\n",
        "cv_results_mape_en = cross_validate(elasticnet, X_scaled_poly, y, scoring='neg_mean_absolute_percentage_error', cv=5, return_train_score=True)\n",
        "print('MAPE на тренировочных фолдах: {:.2f} %'.format(-cv_results_mape_en['train_score'].mean() * 100))\n",
        "print('MAPE на валидационных фолдах: {:.2f} %'.format(-cv_results_mape_en['test_score'].mean() * 100))"
      ]
    },
    {
      "cell_type": "markdown",
      "id": "er2lAiE9QpAb",
      "metadata": {
        "id": "er2lAiE9QpAb"
      },
      "source": [
        "> * Выводы\n",
        "\n",
        "> Полиноминальная регрессия третьей степени с регуляризацией типа Lasso показала высокие показатели ошибки MAE и MAPE, что говорит о низкой пресказательной способности модели."
      ]
    },
    {
      "cell_type": "markdown",
      "id": "91c6e1d1",
      "metadata": {
        "id": "91c6e1d1"
      },
      "source": [
        "### Задание 8.5. (1 балл)\n",
        "\n",
        "Завершением вашей работы будет сводная таблица результатов, которую вы представите на презентации заказчику Василию.\n",
        "\n",
        "Составьте таблицу (DataFrame) со следующими столбцами (имена столбцов выберите самостоятельно):\n",
        "* Наименование модели.\n",
        "* Гиперпараметры (коэффициенты регуляризации, если таковые имеются), если нет — оставьте ячейку пустой.\n",
        "* Использовались ли полиномиальные признаки при построении модели (Да/Нет или True/False).\n",
        "* Значение выбранной метрики на тренировочных фолдах при кросс-валидации модели.\n",
        "* Значение выбранной метрики на валидационных фолдах при кросс-валидации модели.\n",
        "\n",
        "Сделайте финальный вывод по проделанной работе. Какая линейная модель из тех, что мы рассмотрели, показала наилучший результат с точки зрения качества на валидационных фолдах, а также с точки зрения переобученности?"
      ]
    },
    {
      "cell_type": "markdown",
      "id": "OsFRaKkF_nLq",
      "metadata": {
        "id": "OsFRaKkF_nLq"
      },
      "source": [
        "**Критерии оценивания:**\n",
        "\n",
        "- Задание выполнено верно, учтены все условия (**1 балл**): \n",
        "    * верно составлена сводная таблица итоговых результатов построенных ранее моделей с указанными в задании столбцами;\n",
        "    * приведены итоговые выводы по проделанной работе, указано, какая из рассмотренных моделей показала наилучший результат.\n",
        "\n",
        "- Задание выполнено неверно, не учтено одно или несколько условий (**0 баллов**)."
      ]
    },
    {
      "cell_type": "code",
      "execution_count": 134,
      "id": "wRiys8lKQuqW",
      "metadata": {
        "id": "wRiys8lKQuqW"
      },
      "outputs": [
        {
          "name": "stdout",
          "output_type": "stream",
          "text": [
            "Сводная таблица результатов подбора модели линейной регрессии\n"
          ]
        },
        {
          "data": {
            "text/html": [
              "<div>\n",
              "<style scoped>\n",
              "    .dataframe tbody tr th:only-of-type {\n",
              "        vertical-align: middle;\n",
              "    }\n",
              "\n",
              "    .dataframe tbody tr th {\n",
              "        vertical-align: top;\n",
              "    }\n",
              "\n",
              "    .dataframe thead th {\n",
              "        text-align: right;\n",
              "    }\n",
              "</style>\n",
              "<table border=\"1\" class=\"dataframe\">\n",
              "  <thead>\n",
              "    <tr style=\"text-align: right;\">\n",
              "      <th></th>\n",
              "      <th>Модель</th>\n",
              "      <th>Гиперпараметры</th>\n",
              "      <th>Полиноминальные признаки</th>\n",
              "      <th>MAE train</th>\n",
              "      <th>MAE test</th>\n",
              "      <th>MAPE train</th>\n",
              "      <th>MAPE test</th>\n",
              "    </tr>\n",
              "  </thead>\n",
              "  <tbody>\n",
              "    <tr>\n",
              "      <th>0</th>\n",
              "      <td>lr</td>\n",
              "      <td>-</td>\n",
              "      <td>Нет</td>\n",
              "      <td>-</td>\n",
              "      <td>171.352796</td>\n",
              "      <td>-</td>\n",
              "      <td>3.982811</td>\n",
              "    </tr>\n",
              "    <tr>\n",
              "      <th>1</th>\n",
              "      <td>lr_cleaned</td>\n",
              "      <td>-</td>\n",
              "      <td>Нет</td>\n",
              "      <td>-</td>\n",
              "      <td>216.938872</td>\n",
              "      <td>-</td>\n",
              "      <td>5.025351</td>\n",
              "    </tr>\n",
              "    <tr>\n",
              "      <th>2</th>\n",
              "      <td>lr_poly</td>\n",
              "      <td>-</td>\n",
              "      <td>Да</td>\n",
              "      <td>1737.689467</td>\n",
              "      <td>2565.898613</td>\n",
              "      <td>41.848269</td>\n",
              "      <td>62.351495</td>\n",
              "    </tr>\n",
              "    <tr>\n",
              "      <th>3</th>\n",
              "      <td>poly_lasso</td>\n",
              "      <td>{'alpha': 76.10000000000001}</td>\n",
              "      <td>Да</td>\n",
              "      <td>1918.957573</td>\n",
              "      <td>2349.478538</td>\n",
              "      <td>45.53864</td>\n",
              "      <td>56.622588</td>\n",
              "    </tr>\n",
              "    <tr>\n",
              "      <th>4</th>\n",
              "      <td>poly_ridge</td>\n",
              "      <td>{'alpha': 141.70000000000002}</td>\n",
              "      <td>Да</td>\n",
              "      <td>2239.43835</td>\n",
              "      <td>2476.693793</td>\n",
              "      <td>52.070782</td>\n",
              "      <td>58.019440</td>\n",
              "    </tr>\n",
              "    <tr>\n",
              "      <th>5</th>\n",
              "      <td>poly_ElasticNet</td>\n",
              "      <td>{'alpha': 8.200000000000001, 'l1_ratio': 0.9}</td>\n",
              "      <td>Да</td>\n",
              "      <td>2225.531385</td>\n",
              "      <td>2465.178273</td>\n",
              "      <td>51.779113</td>\n",
              "      <td>57.804345</td>\n",
              "    </tr>\n",
              "  </tbody>\n",
              "</table>\n",
              "</div>"
            ],
            "text/plain": [
              "            Модель                                 Гиперпараметры  \\\n",
              "0               lr                                              -   \n",
              "1       lr_cleaned                                              -   \n",
              "2          lr_poly                                              -   \n",
              "3       poly_lasso                   {'alpha': 76.10000000000001}   \n",
              "4       poly_ridge                  {'alpha': 141.70000000000002}   \n",
              "5  poly_ElasticNet  {'alpha': 8.200000000000001, 'l1_ratio': 0.9}   \n",
              "\n",
              "  Полиноминальные признаки    MAE train     MAE test MAPE train  MAPE test  \n",
              "0                      Нет            -   171.352796          -   3.982811  \n",
              "1                      Нет            -   216.938872          -   5.025351  \n",
              "2                       Да  1737.689467  2565.898613  41.848269  62.351495  \n",
              "3                       Да  1918.957573  2349.478538   45.53864  56.622588  \n",
              "4                       Да   2239.43835  2476.693793  52.070782  58.019440  \n",
              "5                       Да  2225.531385  2465.178273  51.779113  57.804345  "
            ]
          },
          "metadata": {},
          "output_type": "display_data"
        }
      ],
      "source": [
        "# Ваш код здесь\n",
        "final = pd.DataFrame({'Модель':['lr', 'lr_cleaned', 'lr_poly', 'poly_lasso', 'poly_ridge','poly_ElasticNet'],\n",
        "                      'Гиперпараметры':['-', '-', '-', grid_search_lasso.best_params_, grid_search_ridge.best_params_, grid_search_en.best_params_],\n",
        "                      'Полиноминальные признаки': ['Нет', 'Нет', 'Да', 'Да', 'Да', 'Да'],\n",
        "                      'MAE train': ['-', '-', -cv_results_mae['train_score'].mean(), -cv_results_mae_lasso['train_score'].mean(), -cv_results_mae_ridge['train_score'].mean(), -cv_results_mae_en['train_score'].mean()],\n",
        "                      'MAE test': [MAE, MAE_cleaned, -cv_results_mae['test_score'].mean(), -cv_results_mae_lasso['test_score'].mean(), -cv_results_mae_ridge['test_score'].mean(), -cv_results_mae_en['test_score'].mean()],\n",
        "                      'MAPE train': ['-', '-', -cv_results_mape['train_score'].mean()*100, -cv_results_mape_lasso['train_score'].mean()*100, -cv_results_mape_ridge['train_score'].mean()*100, -cv_results_mape_en['train_score'].mean()*100],\n",
        "                      'MAPE test': [MAPE * 100, MAPE_cleaned * 100, -cv_results_mape['test_score'].mean()*100, -cv_results_mape_lasso['test_score'].mean()*100, -cv_results_mape_ridge['test_score'].mean()*100, -cv_results_mape_en['test_score'].mean()*100]\n",
        "                      })\n",
        "print('Сводная таблица результатов подбора модели линейной регрессии')\n",
        "display(final)"
      ]
    },
    {
      "cell_type": "markdown",
      "id": "UP7_LSoEQsrA",
      "metadata": {
        "id": "UP7_LSoEQsrA"
      },
      "source": [
        "> * Выводы\n",
        "\n",
        "> Простая модель линейной регрессии показала наилучшие результаты по сравнению с моделью полиноминайльной регрессии 3-го порядка. Регуляризации L1, L2, а также их комбинация ElasticNet не улучшили результаты."
      ]
    }
  ],
  "metadata": {
    "colab": {
      "provenance": []
    },
    "kernelspec": {
      "display_name": "Python 3",
      "language": "python",
      "name": "python3"
    },
    "language_info": {
      "codemirror_mode": {
        "name": "ipython",
        "version": 3
      },
      "file_extension": ".py",
      "mimetype": "text/x-python",
      "name": "python",
      "nbconvert_exporter": "python",
      "pygments_lexer": "ipython3",
      "version": "3.11.9"
    }
  },
  "nbformat": 4,
  "nbformat_minor": 5
}
